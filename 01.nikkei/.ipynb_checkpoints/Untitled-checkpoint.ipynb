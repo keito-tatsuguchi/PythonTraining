{
 "cells": [
  {
   "cell_type": "code",
   "execution_count": 12,
   "metadata": {},
   "outputs": [
    {
     "ename": "SyntaxError",
     "evalue": "invalid syntax (<ipython-input-12-2c595a0dfeab>, line 18)",
     "output_type": "error",
     "traceback": [
      "\u001b[1;36m  File \u001b[1;32m\"<ipython-input-12-2c595a0dfeab>\"\u001b[1;36m, line \u001b[1;32m18\u001b[0m\n\u001b[1;33m    while datetime.now().second != 59:\u001b[0m\n\u001b[1;37m        ^\u001b[0m\n\u001b[1;31mSyntaxError\u001b[0m\u001b[1;31m:\u001b[0m invalid syntax\n"
     ]
    }
   ],
   "source": [
    "import urllib.request, urllib.error\n",
    "from bs4 import BeautifulSoup\n",
    "import datetime\n",
    "import csv\n",
    "import time\n",
    "\n",
    "time_flag = True\n",
    "\n",
    "while True:\n",
    "    \n",
    "    if datetime.now().minute != 59:\n",
    "        time.sleep(58)\n",
    "        continue\n",
    "\n",
    "    f = open('01.nikkei_heikin.csv', 'C:\\Users\\ctc\\Documents\\PythonTraining\\01.nikkei\\csv')\n",
    "    writer = csv.writer(f, lineterminator='\\n'\n",
    "    \n",
    "    while datetime.now().second != 59:\n",
    "        time.sleep(1)\n",
    "    time.sleep(1)\n",
    "\n",
    "    csv_list = []\n",
    "    time_ = datetime.now().strftime(\"%Y/%m/%d %H:%M:%S\")\n",
    "    csv_list.append(time_)\n",
    "\n",
    "    url = \"http://www.nikkei.com/markets/kabu/\"\n",
    "    html = urllib.request.urlopen(url)\n",
    "    soup = BeautifulSoup(html, \"html.parser\")\n",
    "    span = soup.find_all(\"span\")\n",
    "\n",
    "    # 日経平均株価の取得\n",
    "    nikkei_heikin = \"\"\n",
    "    for tag in span:\n",
    "        try:\n",
    "            str = tag.get(\"class\").pop(0)\n",
    "            if str in \"mkc-stock_prices\":\n",
    "                nikkei_heikin = tag.string\n",
    "                break\n",
    "        except:\n",
    "            pass\n",
    "    print(time_, nikkei_heikin)\n",
    "    csv_list.append(nikkei_heikin)\n",
    "    writer.writerow(csv_list)\n",
    "    f.close()"
   ]
  },
  {
   "cell_type": "code",
   "execution_count": null,
   "metadata": {},
   "outputs": [],
   "source": []
  }
 ],
 "metadata": {
  "kernelspec": {
   "display_name": "Python 3",
   "language": "python",
   "name": "python3"
  },
  "language_info": {
   "codemirror_mode": {
    "name": "ipython",
    "version": 3
   },
   "file_extension": ".py",
   "mimetype": "text/x-python",
   "name": "python",
   "nbconvert_exporter": "python",
   "pygments_lexer": "ipython3",
   "version": "3.6.5"
  }
 },
 "nbformat": 4,
 "nbformat_minor": 2
}
