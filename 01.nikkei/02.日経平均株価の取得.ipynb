{
 "cells": [
  {
   "cell_type": "code",
   "execution_count": 1,
   "metadata": {},
   "outputs": [
    {
     "name": "stdout",
     "output_type": "stream",
     "text": [
      "22,813.47\n"
     ]
    }
   ],
   "source": [
    "import urllib.request, urllib.error\n",
    "from bs4 import BeautifulSoup\n",
    "\n",
    "url = \"http://www.nikkei.com/markets/kabu/\"\n",
    "html = urllib.request.urlopen(url)\n",
    "soup = BeautifulSoup(html, \"html.parser\")\n",
    "span = soup.find_all(\"span\")\n",
    "\n",
    "# 日経平均株価の取得\n",
    "nikkei_heikin = \"\"\n",
    "for tag in span:\n",
    "    try:\n",
    "        str = tag.get(\"class\").pop(0)\n",
    "        if str in \"mkc-stock_prices\":\n",
    "            nikkei_heikin = tag.string\n",
    "            break\n",
    "    except:\n",
    "        pass\n",
    "\n",
    "print(nikkei_heikin)"
   ]
  },
  {
   "cell_type": "code",
   "execution_count": null,
   "metadata": {},
   "outputs": [],
   "source": []
  }
 ],
 "metadata": {
  "kernelspec": {
   "display_name": "Python 3",
   "language": "python",
   "name": "python3"
  },
  "language_info": {
   "codemirror_mode": {
    "name": "ipython",
    "version": 3
   },
   "file_extension": ".py",
   "mimetype": "text/x-python",
   "name": "python",
   "nbconvert_exporter": "python",
   "pygments_lexer": "ipython3",
   "version": "3.6.5"
  }
 },
 "nbformat": 4,
 "nbformat_minor": 2
}
